{
 "cells": [
  {
   "cell_type": "markdown",
   "metadata": {},
   "source": [
    "<a href=\"https://apssdc.in\"><img src=\"https://camo.githubusercontent.com/e7501c5948d48f88dad8ab2ab6bd448e1cfd6c79/68747470733a2f2f64726976652e676f6f676c652e636f6d2f75633f6578706f72743d646f776e6c6f61642669643d3135414b51365f2d42697857344b366d4c36525070684635454b58715946327a6a\" width=\"800\" align=\"center\"></a>"
   ]
  },
  {
   "cell_type": "markdown",
   "metadata": {},
   "source": [
    "<h1><center>Introduction to Python & Conditional Statements in python</center></h1>"
   ]
  },
  {
   "cell_type": "markdown",
   "metadata": {},
   "source": [
    "## Day02 Agenda 15-Sept-2020\n",
    "\n",
    "- Literate Programming\n",
    "- Jupyter Notebook Environment\n",
    "- Markdown format for documentation\n",
    "    - Headings\n",
    "    - Lists\n",
    "    - Imgs, Hyperlinks\n",
    "    - Tables\n",
    "    - Math\n",
    "- Python basics\n",
    "    - I/O \n",
    "    - Identifiers\n",
    "    - Data Types\n",
    "    - Type Conversion\n",
    "- Operators in Python\n",
    "    - Arthematic operators\n",
    "    - Logical Operators\n",
    "    - Relational operators\n",
    "    - Membership operators\n",
    "- Conditional Statements in python\n",
    "    - if\n",
    "    - if else\n",
    "    - if-elif-else"
   ]
  },
  {
   "cell_type": "markdown",
   "metadata": {},
   "source": [
    "### [Literate Programming](http://www.literateprogramming.com/knuthweb.pdf)"
   ]
  },
  {
   "cell_type": "markdown",
   "metadata": {},
   "source": [
    "- Jupyter\n",
    "- Kaggle\n",
    "- Colab\n",
    "- Jupyterlab\n",
    "- Data lab\n",
    "- Azure Note books\n",
    "- NB viewer"
   ]
  },
  {
   "cell_type": "markdown",
   "metadata": {},
   "source": [
    "# Heading1\n",
    "## Heading2\n",
    "### Heading3\n",
    "#### Heading4\n",
    "##### Heading5\n",
    "###### Heading6"
   ]
  },
  {
   "cell_type": "markdown",
   "metadata": {},
   "source": [
    "- Easy to learn\n",
    "    - Python\n",
    "        * Programming\n",
    "- Huge community\n",
    "\n",
    "\n",
    "1. ML\n",
    "2. Data Science\n",
    "    1. Data Mining\n",
    "        2. Text mining\n",
    "    2. NLP\n",
    "3. AI"
   ]
  },
  {
   "cell_type": "markdown",
   "metadata": {},
   "source": [
    "\\!\\[imageDescription](image_link)\n",
    "\n",
    "![Anaconda](Anaconda.png)\n",
    "\n",
    "![img](c:/users/username/Downloads/anaconda.png)\n",
    "\n",
    "![AnacondaNavigator](https://www.anaconda.com/imager/assetsdo/Products/Product-Screenshots/5736/navigator-screenshot_680db6b6f11f9cc710dd7defae241cd3.png)"
   ]
  },
  {
   "cell_type": "markdown",
   "metadata": {},
   "source": [
    "\\[linkdesc](Hyperlink)\n",
    "\n",
    "[Click Here to visit Python Official Website](https://python.org)"
   ]
  },
  {
   "cell_type": "markdown",
   "metadata": {},
   "source": [
    "|col1|col2|\n",
    "|----|----|\n",
    "|row1|row2|\n",
    "|row3|row3|"
   ]
  },
  {
   "cell_type": "markdown",
   "metadata": {},
   "source": [
    "$(a + b) ^ 2 = a^2 + b^2 + 2ab$"
   ]
  },
  {
   "cell_type": "markdown",
   "metadata": {},
   "source": [
    "$$(a + b) ^ 2 = a^2 + b^2 + 2ab$$"
   ]
  },
  {
   "cell_type": "markdown",
   "metadata": {},
   "source": [
    "- ShiftEnter - Execute the cell\n",
    "- EscM - code cell to matkdown cell\n",
    "- EscY - markdown cell to code cell\n",
    "- EscA - insert the cell above the current cell\n",
    "- EscB - Insert the cell below the current cell\n",
    "- DD - Deleting"
   ]
  },
  {
   "cell_type": "markdown",
   "metadata": {},
   "source": [
    "## Python Basics\n",
    "1. I/O"
   ]
  },
  {
   "cell_type": "code",
   "execution_count": 1,
   "metadata": {},
   "outputs": [
    {
     "name": "stdout",
     "output_type": "stream",
     "text": [
      "Hello World\n"
     ]
    }
   ],
   "source": [
    "print(\"Hello World\")"
   ]
  },
  {
   "cell_type": "code",
   "execution_count": 2,
   "metadata": {
    "scrolled": true
   },
   "outputs": [
    {
     "name": "stdout",
     "output_type": "stream",
     "text": [
      "Enter any DescriptionAPSSDC\n"
     ]
    },
    {
     "data": {
      "text/plain": [
       "'APSSDC'"
      ]
     },
     "execution_count": 2,
     "metadata": {},
     "output_type": "execute_result"
    }
   ],
   "source": [
    "input(\"Enter any Description\")"
   ]
  },
  {
   "cell_type": "markdown",
   "metadata": {},
   "source": [
    "2. Identifiers\n",
    "\n",
    "Names given to any variables, classes, functions,....\n",
    "\n",
    "### Rules for identifiers\n",
    "\n",
    "1. There no space between the identifiers\n",
    "2. No special characters except _\n",
    "3. shouldn't starts with numbers but it can start with A-za-Z_\n",
    "4. identifiers should not be the predifined keywords, functions\n",
    "5. can be conbinations of A-za-z0-9_"
   ]
  },
  {
   "cell_type": "markdown",
   "metadata": {},
   "source": [
    "## Data Types on python\n",
    "\n",
    "\n",
    "- int\n",
    "- float\n",
    "- Boolean\n",
    "- Strings\n",
    "- Lists\n",
    "- Tuples\n",
    "- dictionary\n",
    "- set\n",
    "- imaginary/complex"
   ]
  },
  {
   "cell_type": "markdown",
   "metadata": {},
   "source": [
    "## Dynamically Allocated"
   ]
  },
  {
   "cell_type": "code",
   "execution_count": 3,
   "metadata": {},
   "outputs": [],
   "source": [
    "a = 5"
   ]
  },
  {
   "cell_type": "code",
   "execution_count": 6,
   "metadata": {},
   "outputs": [
    {
     "name": "stdout",
     "output_type": "stream",
     "text": [
      "<class 'int'>\n"
     ]
    },
    {
     "data": {
      "text/plain": [
       "int"
      ]
     },
     "execution_count": 6,
     "metadata": {},
     "output_type": "execute_result"
    }
   ],
   "source": [
    "print(type(a))\n",
    "type(a)"
   ]
  },
  {
   "cell_type": "code",
   "execution_count": 7,
   "metadata": {},
   "outputs": [
    {
     "data": {
      "text/plain": [
       "float"
      ]
     },
     "execution_count": 7,
     "metadata": {},
     "output_type": "execute_result"
    }
   ],
   "source": [
    "a = 5.5\n",
    "\n",
    "type(a)"
   ]
  },
  {
   "cell_type": "code",
   "execution_count": 8,
   "metadata": {},
   "outputs": [
    {
     "data": {
      "text/plain": [
       "str"
      ]
     },
     "execution_count": 8,
     "metadata": {},
     "output_type": "execute_result"
    }
   ],
   "source": [
    "b = \"ajhsahcbksajbc0\"\n",
    "\n",
    "type(b)"
   ]
  },
  {
   "cell_type": "code",
   "execution_count": 9,
   "metadata": {},
   "outputs": [
    {
     "name": "stdout",
     "output_type": "stream",
     "text": [
      "Enter any numbers1235689\n",
      "1235689 <class 'str'>\n"
     ]
    }
   ],
   "source": [
    "data = input(\"Enter any numbers\")\n",
    "\n",
    "print(data, type(data))"
   ]
  },
  {
   "cell_type": "markdown",
   "metadata": {},
   "source": [
    "### Type Conversions"
   ]
  },
  {
   "cell_type": "code",
   "execution_count": 10,
   "metadata": {},
   "outputs": [
    {
     "name": "stdout",
     "output_type": "stream",
     "text": [
      "<class 'str'>\n",
      "1235689 <class 'int'>\n"
     ]
    }
   ],
   "source": [
    "print(type(data))\n",
    "\n",
    "data = int(data)\n",
    "\n",
    "print(data, type(data))"
   ]
  },
  {
   "cell_type": "code",
   "execution_count": 11,
   "metadata": {},
   "outputs": [
    {
     "data": {
      "text/plain": [
       "1235689.0"
      ]
     },
     "execution_count": 11,
     "metadata": {},
     "output_type": "execute_result"
    }
   ],
   "source": [
    "float(data)"
   ]
  },
  {
   "cell_type": "code",
   "execution_count": 12,
   "metadata": {},
   "outputs": [
    {
     "data": {
      "text/plain": [
       "'1235689'"
      ]
     },
     "execution_count": 12,
     "metadata": {},
     "output_type": "execute_result"
    }
   ],
   "source": [
    "str(data)"
   ]
  },
  {
   "cell_type": "code",
   "execution_count": 13,
   "metadata": {},
   "outputs": [
    {
     "data": {
      "text/plain": [
       "(1235689+0j)"
      ]
     },
     "execution_count": 13,
     "metadata": {},
     "output_type": "execute_result"
    }
   ],
   "source": [
    "complex(data)"
   ]
  },
  {
   "cell_type": "markdown",
   "metadata": {},
   "source": [
    "- int - binary\n",
    "- int - octal\n",
    "- int - hexadecimal"
   ]
  },
  {
   "cell_type": "code",
   "execution_count": 14,
   "metadata": {},
   "outputs": [
    {
     "name": "stdout",
     "output_type": "stream",
     "text": [
      "0b101 0x5 0o5\n",
      "5 10 9\n"
     ]
    }
   ],
   "source": [
    "## bin, oct, hex\n",
    "\n",
    "print(bin(5), hex(5), oct(5))\n",
    "\n",
    "print(int(\"101\", 2), int('A', 16), int('011',8))"
   ]
  },
  {
   "cell_type": "code",
   "execution_count": 15,
   "metadata": {},
   "outputs": [
    {
     "data": {
      "text/plain": [
       "(65, 'A')"
      ]
     },
     "execution_count": 15,
     "metadata": {},
     "output_type": "execute_result"
    }
   ],
   "source": [
    "ord('A'), chr(65)"
   ]
  },
  {
   "cell_type": "markdown",
   "metadata": {},
   "source": [
    "## Operatiors in python\n",
    "\n",
    "\n",
    "- Arthematic - +, -, *, /, //, %, **\n",
    "- Logical - and, or, not\n",
    "- Relational - <, >, >=, <=, ==, !=\n",
    "- assignment - +=, -=, *=, /=, //=, %=, **=\n",
    "- bitwise - &, |\n",
    "- membership - in, not in"
   ]
  },
  {
   "cell_type": "code",
   "execution_count": 17,
   "metadata": {},
   "outputs": [
    {
     "data": {
      "text/plain": [
       "(15, -5, 50, 0.5, 0, 5, 9765625)"
      ]
     },
     "execution_count": 17,
     "metadata": {},
     "output_type": "execute_result"
    }
   ],
   "source": [
    "a = 5\n",
    "b = 10\n",
    "\n",
    "\n",
    "a+b, a-b, a*b, a/b, a//b, a%b, a**b,"
   ]
  },
  {
   "cell_type": "code",
   "execution_count": 22,
   "metadata": {},
   "outputs": [
    {
     "data": {
      "text/plain": [
       "(False, True)"
      ]
     },
     "execution_count": 22,
     "metadata": {},
     "output_type": "execute_result"
    }
   ],
   "source": [
    "s = 'APSSDC'\n",
    "\n",
    "'A' not in s, 'AP' in s"
   ]
  },
  {
   "cell_type": "markdown",
   "metadata": {},
   "source": [
    "## Control Statements"
   ]
  },
  {
   "cell_type": "markdown",
   "metadata": {},
   "source": [
    "### if\n",
    "```python\n",
    "if conditon:\n",
    "    statement1\n",
    "    statement2\n",
    "    statement3\n",
    "```\n",
    "#### if-elif-else\n",
    "```python\n",
    "if condition1:\n",
    "    statenetm1\n",
    "    statement2\n",
    "elif condition2:\n",
    "    statenetm1\n",
    "    statement2\n",
    "else:\n",
    "    statenetm1\n",
    "    statement2\n",
    "```\n",
    "### if-else\n",
    "```python\n",
    "if condition:\n",
    "    statenetm1\n",
    "    statement2\n",
    "else:\n",
    "    statenetm1\n",
    "    statement2\n",
    "```"
   ]
  },
  {
   "cell_type": "code",
   "execution_count": 23,
   "metadata": {},
   "outputs": [
    {
     "name": "stdout",
     "output_type": "stream",
     "text": [
      "Enter a Number5\n",
      "5 is a Not Even Number\n"
     ]
    }
   ],
   "source": [
    "num = int(input(\"Enter a Number\"))\n",
    "\n",
    "if num % 2 == 0:\n",
    "    print(num, \"is a Even Number\")\n",
    "else:\n",
    "    print(num, \"is a Not Even Number\")"
   ]
  }
 ],
 "metadata": {
  "kernelspec": {
   "display_name": "Python 3",
   "language": "python",
   "name": "python3"
  },
  "language_info": {
   "codemirror_mode": {
    "name": "ipython",
    "version": 3
   },
   "file_extension": ".py",
   "mimetype": "text/x-python",
   "name": "python",
   "nbconvert_exporter": "python",
   "pygments_lexer": "ipython3",
   "version": "3.8.3"
  }
 },
 "nbformat": 4,
 "nbformat_minor": 4
}
